{
 "cells": [
  {
   "cell_type": "markdown",
   "id": "d223caf4",
   "metadata": {},
   "source": [
    "# SENTIMENT ANALYSIS DURING INDONESIA'S ELECTION 2019\n",
    "In this Jupyter Notebook, we will delve into the world of sentiment analysis by exploring how social media users expressed their sentiments during the 2019 Indonesian election. The 2019 election was a pivotal moment in Indonesian politics, and it generated a wealth of online conversations and opinions. Our analysis will be based on a dataset containing tweets from Twitter platform. "
   ]
  },
  {
   "cell_type": "code",
   "execution_count": 4,
   "id": "c01dc6c5",
   "metadata": {},
   "outputs": [],
   "source": [
    "import pandas as pd"
   ]
  },
  {
   "cell_type": "code",
   "execution_count": 5,
   "id": "8050895c",
   "metadata": {},
   "outputs": [],
   "source": [
    "df_twitter = pd.read_csv(\"C:/Users/ejhas/OneDrive/Documents/miracles/JOBS/AI Bootcamp/project1/Dataset/tweet.csv\")\n",
    "#df_twitter = df_twitter.rename(columns={'Unnamed: 0': '', 'column2': 'sentiment', 'column3': 'tweet'})"
   ]
  },
  {
   "cell_type": "code",
   "execution_count": 6,
   "id": "f30ec908",
   "metadata": {},
   "outputs": [
    {
     "name": "stdout",
     "output_type": "stream",
     "text": [
      "Unnamed: 0    0.0\n",
      "sentimen      0.0\n",
      "tweet         0.0\n",
      "dtype: float64\n"
     ]
    }
   ],
   "source": [
    "# Missing value percentage checking\n",
    "missing_percentage = (df_twitter.isnull().sum() / len(df_twitter)) * 100\n",
    "\n",
    "# Show the missing percentage\n",
    "print(missing_percentage)"
   ]
  },
  {
   "cell_type": "code",
   "execution_count": 7,
   "id": "17188c86",
   "metadata": {},
   "outputs": [
    {
     "data": {
      "text/html": [
       "<div>\n",
       "<style scoped>\n",
       "    .dataframe tbody tr th:only-of-type {\n",
       "        vertical-align: middle;\n",
       "    }\n",
       "\n",
       "    .dataframe tbody tr th {\n",
       "        vertical-align: top;\n",
       "    }\n",
       "\n",
       "    .dataframe thead th {\n",
       "        text-align: right;\n",
       "    }\n",
       "</style>\n",
       "<table border=\"1\" class=\"dataframe\">\n",
       "  <thead>\n",
       "    <tr style=\"text-align: right;\">\n",
       "      <th></th>\n",
       "      <th>Unnamed: 0</th>\n",
       "      <th>sentimen</th>\n",
       "      <th>tweet</th>\n",
       "    </tr>\n",
       "  </thead>\n",
       "  <tbody>\n",
       "    <tr>\n",
       "      <th>0</th>\n",
       "      <td>0</td>\n",
       "      <td>negatif</td>\n",
       "      <td>Kata @prabowo Indonesia tidak dihargai bangsa ...</td>\n",
       "    </tr>\n",
       "    <tr>\n",
       "      <th>1</th>\n",
       "      <td>1</td>\n",
       "      <td>netral</td>\n",
       "      <td>Batuan Langka, Tasbih Jokowi Hadiah dari Habib...</td>\n",
       "    </tr>\n",
       "    <tr>\n",
       "      <th>2</th>\n",
       "      <td>2</td>\n",
       "      <td>netral</td>\n",
       "      <td>Di era Jokowi, ekonomi Indonesia semakin baik....</td>\n",
       "    </tr>\n",
       "    <tr>\n",
       "      <th>3</th>\n",
       "      <td>3</td>\n",
       "      <td>positif</td>\n",
       "      <td>Bagi Sumatera Selatan, Asian Games berdampak p...</td>\n",
       "    </tr>\n",
       "    <tr>\n",
       "      <th>4</th>\n",
       "      <td>4</td>\n",
       "      <td>negatif</td>\n",
       "      <td>Negara kita ngutang buat bngun infrastruktur y...</td>\n",
       "    </tr>\n",
       "    <tr>\n",
       "      <th>...</th>\n",
       "      <td>...</td>\n",
       "      <td>...</td>\n",
       "      <td>...</td>\n",
       "    </tr>\n",
       "    <tr>\n",
       "      <th>1810</th>\n",
       "      <td>1810</td>\n",
       "      <td>netral</td>\n",
       "      <td>Negarawan sejati sll bangga dan mengedepankan ...</td>\n",
       "    </tr>\n",
       "    <tr>\n",
       "      <th>1811</th>\n",
       "      <td>1811</td>\n",
       "      <td>netral</td>\n",
       "      <td>1. HRS ceramah di Damai Indonesiaku 2. Perekon...</td>\n",
       "    </tr>\n",
       "    <tr>\n",
       "      <th>1812</th>\n",
       "      <td>1812</td>\n",
       "      <td>netral</td>\n",
       "      <td>Mari bangun bangsa dgn mendukung perekonomian ...</td>\n",
       "    </tr>\n",
       "    <tr>\n",
       "      <th>1813</th>\n",
       "      <td>1813</td>\n",
       "      <td>netral</td>\n",
       "      <td>Bantu majukan perekonomian bangsa bersama Pak ...</td>\n",
       "    </tr>\n",
       "    <tr>\n",
       "      <th>1814</th>\n",
       "      <td>1814</td>\n",
       "      <td>netral</td>\n",
       "      <td>Pak @jokowi mengubah cara pandang ekonomi. Kin...</td>\n",
       "    </tr>\n",
       "  </tbody>\n",
       "</table>\n",
       "<p>1815 rows × 3 columns</p>\n",
       "</div>"
      ],
      "text/plain": [
       "      Unnamed: 0 sentimen                                              tweet\n",
       "0              0  negatif  Kata @prabowo Indonesia tidak dihargai bangsa ...\n",
       "1              1   netral  Batuan Langka, Tasbih Jokowi Hadiah dari Habib...\n",
       "2              2   netral  Di era Jokowi, ekonomi Indonesia semakin baik....\n",
       "3              3  positif  Bagi Sumatera Selatan, Asian Games berdampak p...\n",
       "4              4  negatif  Negara kita ngutang buat bngun infrastruktur y...\n",
       "...          ...      ...                                                ...\n",
       "1810        1810   netral  Negarawan sejati sll bangga dan mengedepankan ...\n",
       "1811        1811   netral  1. HRS ceramah di Damai Indonesiaku 2. Perekon...\n",
       "1812        1812   netral  Mari bangun bangsa dgn mendukung perekonomian ...\n",
       "1813        1813   netral  Bantu majukan perekonomian bangsa bersama Pak ...\n",
       "1814        1814   netral  Pak @jokowi mengubah cara pandang ekonomi. Kin...\n",
       "\n",
       "[1815 rows x 3 columns]"
      ]
     },
     "execution_count": 7,
     "metadata": {},
     "output_type": "execute_result"
    }
   ],
   "source": [
    "df_twitter"
   ]
  },
  {
   "cell_type": "code",
   "execution_count": 8,
   "id": "726e7d77",
   "metadata": {},
   "outputs": [],
   "source": [
    "#!pip install scikit-learn\n",
    "#!pip install nlp_id"
   ]
  },
  {
   "cell_type": "markdown",
   "id": "89760a05",
   "metadata": {},
   "source": [
    "### Tweet Removal"
   ]
  },
  {
   "cell_type": "code",
   "execution_count": 9,
   "id": "e5c548d6",
   "metadata": {},
   "outputs": [],
   "source": [
    "import re"
   ]
  },
  {
   "cell_type": "code",
   "execution_count": 10,
   "id": "8b926a84",
   "metadata": {},
   "outputs": [],
   "source": [
    "def clean_tweet(tweet):\n",
    "    # Remove hashtags\n",
    "    tweet = re.sub(r\"#\\w+\", \"\", tweet)\n",
    "\n",
    "    # Remove non-alphanumeric characters\n",
    "    tweet = re.sub(r\"[^\\w\\s]+\", \"\", tweet)\n",
    "\n",
    "    # Remove extra spaces\n",
    "    tweet = re.sub(r\"\\s+\", \" \", tweet)\n",
    "    \n",
    "     # Remove white spaces\n",
    "    tweet = re.sub(' +', ' ', tweet)\n",
    "    return tweet.strip()"
   ]
  },
  {
   "cell_type": "code",
   "execution_count": 11,
   "id": "e6789b9c",
   "metadata": {},
   "outputs": [],
   "source": [
    "# Convert non-string data to strings and apply the clean_tweet function to the \"tweet\" column\n",
    "df_twitter['tweet'] = df_twitter['tweet'].apply(lambda x: clean_tweet(str(x)))"
   ]
  },
  {
   "cell_type": "code",
   "execution_count": 12,
   "id": "ec5fb7f9",
   "metadata": {},
   "outputs": [
    {
     "data": {
      "text/plain": [
       "0       Kata prabowo Indonesia tidak dihargai bangsa a...\n",
       "1       Batuan Langka Tasbih Jokowi Hadiah dari Habib ...\n",
       "2       Di era Jokowi ekonomi Indonesia semakin baik p...\n",
       "3       Bagi Sumatera Selatan Asian Games berdampak pd...\n",
       "4       Negara kita ngutang buat bngun infrastruktur y...\n",
       "                              ...                        \n",
       "1810    Negarawan sejati sll bangga dan mengedepankan ...\n",
       "1811    1 HRS ceramah di Damai Indonesiaku 2 Perekonom...\n",
       "1812    Mari bangun bangsa dgn mendukung perekonomian ...\n",
       "1813    Bantu majukan perekonomian bangsa bersama Pak ...\n",
       "1814    Pak jokowi mengubah cara pandang ekonomi Kini ...\n",
       "Name: tweet, Length: 1815, dtype: object"
      ]
     },
     "metadata": {},
     "output_type": "display_data"
    }
   ],
   "source": [
    "# Display the original and cleaned tweets\n",
    "display(df_twitter['tweet'])"
   ]
  },
  {
   "cell_type": "markdown",
   "id": "4f2c286a",
   "metadata": {},
   "source": [
    "### Punctuation Removal"
   ]
  },
  {
   "cell_type": "code",
   "execution_count": 13,
   "id": "c808848e",
   "metadata": {},
   "outputs": [],
   "source": [
    "def remove_punctuation(text):\n",
    "    if isinstance(text, str):\n",
    "        # Apply punctuation removal only to string values\n",
    "        cleaned_text = re.sub(r'[^\\w\\s]', '', text)\n",
    "        return cleaned_text\n",
    "    else:\n",
    "        # Return the input as is for non-string values\n",
    "        return text"
   ]
  },
  {
   "cell_type": "code",
   "execution_count": 14,
   "id": "6233d0b2",
   "metadata": {},
   "outputs": [],
   "source": [
    "# Apply the remove_punctuation function to the \"tweet\" column\n",
    "df_twitter['tweet'] = df_twitter['tweet'].apply(remove_punctuation)"
   ]
  },
  {
   "cell_type": "code",
   "execution_count": 15,
   "id": "96b2a4ac",
   "metadata": {
    "scrolled": true
   },
   "outputs": [
    {
     "data": {
      "text/plain": [
       "0       Kata prabowo Indonesia tidak dihargai bangsa a...\n",
       "1       Batuan Langka Tasbih Jokowi Hadiah dari Habib ...\n",
       "2       Di era Jokowi ekonomi Indonesia semakin baik p...\n",
       "3       Bagi Sumatera Selatan Asian Games berdampak pd...\n",
       "4       Negara kita ngutang buat bngun infrastruktur y...\n",
       "                              ...                        \n",
       "1810    Negarawan sejati sll bangga dan mengedepankan ...\n",
       "1811    1 HRS ceramah di Damai Indonesiaku 2 Perekonom...\n",
       "1812    Mari bangun bangsa dgn mendukung perekonomian ...\n",
       "1813    Bantu majukan perekonomian bangsa bersama Pak ...\n",
       "1814    Pak jokowi mengubah cara pandang ekonomi Kini ...\n",
       "Name: tweet, Length: 1815, dtype: object"
      ]
     },
     "metadata": {},
     "output_type": "display_data"
    }
   ],
   "source": [
    "# Display the clenaed text\n",
    "display(df_twitter['tweet'])"
   ]
  },
  {
   "cell_type": "markdown",
   "id": "aa5bc6be",
   "metadata": {},
   "source": [
    "### Special Character Removal"
   ]
  },
  {
   "cell_type": "code",
   "execution_count": 16,
   "id": "45f31be4",
   "metadata": {},
   "outputs": [],
   "source": [
    "def remove_special_character(text):\n",
    "    # Remove special characters using a regular expression\n",
    "    cleaned_text = re.sub(r'[^a-zA-Z0-9\\s]', '', text)\n",
    "    return cleaned_text"
   ]
  },
  {
   "cell_type": "code",
   "execution_count": 17,
   "id": "ec1efe26",
   "metadata": {},
   "outputs": [],
   "source": [
    "# Apply the remove_special_character function to the \"tweet\" column\n",
    "df_twitter['tweet'] = df_twitter['tweet'].apply(remove_special_character)"
   ]
  },
  {
   "cell_type": "code",
   "execution_count": 18,
   "id": "4e328a98",
   "metadata": {
    "scrolled": true
   },
   "outputs": [
    {
     "data": {
      "text/plain": [
       "0       Kata prabowo Indonesia tidak dihargai bangsa a...\n",
       "1       Batuan Langka Tasbih Jokowi Hadiah dari Habib ...\n",
       "2       Di era Jokowi ekonomi Indonesia semakin baik p...\n",
       "3       Bagi Sumatera Selatan Asian Games berdampak pd...\n",
       "4       Negara kita ngutang buat bngun infrastruktur y...\n",
       "                              ...                        \n",
       "1810    Negarawan sejati sll bangga dan mengedepankan ...\n",
       "1811    1 HRS ceramah di Damai Indonesiaku 2 Perekonom...\n",
       "1812    Mari bangun bangsa dgn mendukung perekonomian ...\n",
       "1813    Bantu majukan perekonomian bangsa bersama Pak ...\n",
       "1814    Pak jokowi mengubah cara pandang ekonomi Kini ...\n",
       "Name: tweet, Length: 1815, dtype: object"
      ]
     },
     "metadata": {},
     "output_type": "display_data"
    }
   ],
   "source": [
    "# Display the original and cleaned tweets\n",
    "display(df_twitter['tweet'])"
   ]
  },
  {
   "cell_type": "markdown",
   "id": "879b5652",
   "metadata": {},
   "source": [
    "### Emoji Removal"
   ]
  },
  {
   "cell_type": "code",
   "execution_count": 19,
   "id": "59ebbe59",
   "metadata": {},
   "outputs": [],
   "source": [
    "def remove_emoji_emoticon(text):\n",
    "    # Remove emojis and emoticons using a regular expression\n",
    "    emoji_pattern = re.compile(\"[\"\n",
    "        u\"\\U0001F600-\\U0001F64F\"  # Emoticons\n",
    "        u\"\\U0001F300-\\U0001F5FF\"  # Symbols & Pictographs\n",
    "        u\"\\U0001F680-\\U0001F6FF\"  # Transport & Map Symbols\n",
    "        u\"\\U0001F1E0-\\U0001F1FF\"  # Flags (iOS)\n",
    "        \"]+\", flags=re.UNICODE)\n",
    "    cleaned_text = emoji_pattern.sub(r'', text)\n",
    "    return cleaned_text"
   ]
  },
  {
   "cell_type": "code",
   "execution_count": 20,
   "id": "edc62aa6",
   "metadata": {},
   "outputs": [],
   "source": [
    "# Apply the remove_emoji_emoticon function to the \"tweet\" column\n",
    "df_twitter['tweet'] = df_twitter['tweet'].apply(remove_emoji_emoticon)"
   ]
  },
  {
   "cell_type": "code",
   "execution_count": 21,
   "id": "c823102f",
   "metadata": {
    "scrolled": true
   },
   "outputs": [
    {
     "data": {
      "text/plain": [
       "0       Kata prabowo Indonesia tidak dihargai bangsa a...\n",
       "1       Batuan Langka Tasbih Jokowi Hadiah dari Habib ...\n",
       "2       Di era Jokowi ekonomi Indonesia semakin baik p...\n",
       "3       Bagi Sumatera Selatan Asian Games berdampak pd...\n",
       "4       Negara kita ngutang buat bngun infrastruktur y...\n",
       "                              ...                        \n",
       "1810    Negarawan sejati sll bangga dan mengedepankan ...\n",
       "1811    1 HRS ceramah di Damai Indonesiaku 2 Perekonom...\n",
       "1812    Mari bangun bangsa dgn mendukung perekonomian ...\n",
       "1813    Bantu majukan perekonomian bangsa bersama Pak ...\n",
       "1814    Pak jokowi mengubah cara pandang ekonomi Kini ...\n",
       "Name: tweet, Length: 1815, dtype: object"
      ]
     },
     "metadata": {},
     "output_type": "display_data"
    }
   ],
   "source": [
    "# Display the original and cleaned tweets\n",
    "display(df_twitter['tweet'])"
   ]
  },
  {
   "cell_type": "markdown",
   "id": "704c7f34",
   "metadata": {},
   "source": [
    "### HTTPS REMOVAL"
   ]
  },
  {
   "cell_type": "code",
   "execution_count": 22,
   "id": "4ae93cf8",
   "metadata": {},
   "outputs": [],
   "source": [
    "def remove_url_and_twitter_pics(text):\n",
    "    # Delete URL\n",
    "    df_twitter['tweet'] = df_twitter['tweet'].apply(lambda x: re.sub(r'http\\S+|www.\\S+', '', x, flags=re.MULTILINE))\n",
    "    # Delete link to pictures\n",
    "    df_twitter['tweet'] = df_twitter['tweet'].apply(lambda x: re.sub(r'pic.twitter.com/\\S+', '', x))\n",
    "    return tweets_no_url_no_pics"
   ]
  },
  {
   "cell_type": "code",
   "execution_count": 23,
   "id": "4dfd0866",
   "metadata": {},
   "outputs": [
    {
     "data": {
      "text/plain": [
       "440     Mamfaat yang dapat diperoleh dari pelaksanaan ...\n",
       "843     Sangat jelas skali kwalitas 02 yg cerdas dan b...\n",
       "792     Trimakasih KemenPU Trimakasih tniad Trimakasih...\n",
       "871     Semoga gaji guru madrasah bisa tersejahtrakans...\n",
       "1691    subhanallah dgn krendahan hatinya prabowo sand...\n",
       "390     Pecatan gak ngerti ekonomi  Ngerti nya di sawe...\n",
       "1121    Pada masa pemerintahan Jokowi laju kenaikan ha...\n",
       "681     Jangankan di singapore ci pas w ke yurop aja d...\n",
       "145     Pada debat kemarin katanya anda berdua prabowo...\n",
       "1259    Presiden Jokowi Telah membangun Indonesia Mula...\n",
       "Name: tweet, dtype: object"
      ]
     },
     "execution_count": 23,
     "metadata": {},
     "output_type": "execute_result"
    }
   ],
   "source": [
    "df_twitter['tweet'].sample(10)"
   ]
  },
  {
   "cell_type": "markdown",
   "id": "fc9c3d3f",
   "metadata": {},
   "source": [
    "### Slang Word Conversion"
   ]
  },
  {
   "cell_type": "code",
   "execution_count": 24,
   "id": "dce8ed80",
   "metadata": {},
   "outputs": [],
   "source": [
    "import re\n",
    "import pandas as pd\n",
    "\n",
    "# Load the slang word dictionary from 'slangwords.txt'\n",
    "kamusSlang = eval(open(\"C:/Users/ejhas/OneDrive/Documents/miracles/JOBS/AI Bootcamp/project1/Dataset/slangwords.txt\").read())\n",
    "\n",
    "# Define a function to convert slang words to standard words\n",
    "def convertToSlangword(text):\n",
    "    # Create a regex pattern to match slang words\n",
    "    pattern = re.compile(r'\\b(' + '|'.join(kamusSlang.keys()) + r')\\b')\n",
    "\n",
    "    # Function to replace slang words with standard words\n",
    "    def replace_slang(match):\n",
    "        return kamusSlang[match.group()]\n",
    "\n",
    "    # Apply the pattern substitution to the text\n",
    "    filtered_text = pattern.sub(replace_slang, text)\n",
    "\n",
    "    return filtered_text.lower()  # Optionally convert to lowercase\n",
    "\n",
    "# Apply the conversion function to your DataFrame's 'tweet' column\n",
    "df_twitter['tweet'] = df_twitter['tweet'].apply(convertToSlangword)\n"
   ]
  },
  {
   "cell_type": "code",
   "execution_count": 25,
   "id": "468bcd5a",
   "metadata": {
    "scrolled": true
   },
   "outputs": [
    {
     "name": "stdout",
     "output_type": "stream",
     "text": [
      "0       kata prabowo indonesia tidak dihargai bangsa a...\n",
      "1       batuan langka tasbih jokowi hadiah dari habib ...\n",
      "2       di era jokowi ekonomi indonesia semakin baik p...\n",
      "3       bagi sumatera selatan asian games berdampak pa...\n",
      "4       negara kita hutang buat bngun infrastruktur ya...\n",
      "                              ...                        \n",
      "1810    negarawan sejati selalu bangga dan mengedepank...\n",
      "1811    1 hrs ceramah di damai indonesiaku 2 perekonom...\n",
      "1812    mari bangun bangsa dengan mendukung perekonomi...\n",
      "1813    bantu majukan perekonomian bangsa bersama pak ...\n",
      "1814    pak jokowi mengubah cara pandang ekonomi kini ...\n",
      "Name: tweet, Length: 1815, dtype: object\n"
     ]
    }
   ],
   "source": [
    "print(df_twitter['tweet'])"
   ]
  },
  {
   "cell_type": "markdown",
   "id": "7d119fa8",
   "metadata": {},
   "source": [
    "### ALAY CONVERSION"
   ]
  },
  {
   "cell_type": "code",
   "execution_count": 26,
   "id": "90dfa81e",
   "metadata": {
    "scrolled": true
   },
   "outputs": [
    {
     "data": {
      "text/html": [
       "<div>\n",
       "<style scoped>\n",
       "    .dataframe tbody tr th:only-of-type {\n",
       "        vertical-align: middle;\n",
       "    }\n",
       "\n",
       "    .dataframe tbody tr th {\n",
       "        vertical-align: top;\n",
       "    }\n",
       "\n",
       "    .dataframe thead th {\n",
       "        text-align: right;\n",
       "    }\n",
       "</style>\n",
       "<table border=\"1\" class=\"dataframe\">\n",
       "  <thead>\n",
       "    <tr style=\"text-align: right;\">\n",
       "      <th></th>\n",
       "      <th>slang</th>\n",
       "      <th>conversion</th>\n",
       "    </tr>\n",
       "  </thead>\n",
       "  <tbody>\n",
       "    <tr>\n",
       "      <th>0</th>\n",
       "      <td>ajh</td>\n",
       "      <td>saja</td>\n",
       "    </tr>\n",
       "    <tr>\n",
       "      <th>1</th>\n",
       "      <td>ajj</td>\n",
       "      <td>saja</td>\n",
       "    </tr>\n",
       "    <tr>\n",
       "      <th>2</th>\n",
       "      <td>akoh</td>\n",
       "      <td>aku</td>\n",
       "    </tr>\n",
       "    <tr>\n",
       "      <th>3</th>\n",
       "      <td>amaca</td>\n",
       "      <td>ah masa</td>\n",
       "    </tr>\n",
       "    <tr>\n",
       "      <th>4</th>\n",
       "      <td>amuh</td>\n",
       "      <td>kamu</td>\n",
       "    </tr>\n",
       "    <tr>\n",
       "      <th>...</th>\n",
       "      <td>...</td>\n",
       "      <td>...</td>\n",
       "    </tr>\n",
       "    <tr>\n",
       "      <th>233</th>\n",
       "      <td>yap</td>\n",
       "      <td>ya</td>\n",
       "    </tr>\n",
       "    <tr>\n",
       "      <th>234</th>\n",
       "      <td>yaw</td>\n",
       "      <td>ya</td>\n",
       "    </tr>\n",
       "    <tr>\n",
       "      <th>235</th>\n",
       "      <td>yoi</td>\n",
       "      <td>iya</td>\n",
       "    </tr>\n",
       "    <tr>\n",
       "      <th>236</th>\n",
       "      <td>yups</td>\n",
       "      <td>ya</td>\n",
       "    </tr>\n",
       "    <tr>\n",
       "      <th>237</th>\n",
       "      <td>yupz</td>\n",
       "      <td>ya</td>\n",
       "    </tr>\n",
       "  </tbody>\n",
       "</table>\n",
       "<p>238 rows × 2 columns</p>\n",
       "</div>"
      ],
      "text/plain": [
       "     slang conversion\n",
       "0      ajh       saja\n",
       "1      ajj       saja\n",
       "2     akoh        aku\n",
       "3    amaca    ah masa\n",
       "4     amuh       kamu\n",
       "..     ...        ...\n",
       "233    yap         ya\n",
       "234    yaw         ya\n",
       "235    yoi        iya\n",
       "236   yups         ya\n",
       "237   yupz         ya\n",
       "\n",
       "[238 rows x 2 columns]"
      ]
     },
     "execution_count": 26,
     "metadata": {},
     "output_type": "execute_result"
    }
   ],
   "source": [
    "# Load the alays word dictionary \n",
    "kamusAlay = pd.read_csv(\"C:/Users/ejhas/OneDrive/Documents/miracles/JOBS/AI Bootcamp/project1/Dataset/kamusalay.csv\", header=None, names=['slang', 'conversion'])\n",
    "kamusAlay"
   ]
  },
  {
   "cell_type": "code",
   "execution_count": 27,
   "id": "e79986e0",
   "metadata": {},
   "outputs": [],
   "source": [
    "# Create a dictionary from the DataFrame\n",
    "kamusSlang = dict(zip(kamusAlay['slang'], kamusAlay['conversion']))\n",
    "\n",
    "# Define a function to convert slang words to standard words\n",
    "def convertToSlangword(text):\n",
    "    # Create a regex pattern to match slang words\n",
    "    pattern = re.compile(r'\\b(' + '|'.join(kamusSlang.keys()) + r')\\b')\n",
    "\n",
    "    # Function to replace slang words with standard words\n",
    "    def replace_slang(match):\n",
    "        return kamusSlang[match.group()]\n",
    "\n",
    "    # Apply the pattern substitution to the text\n",
    "    filtered_text = pattern.sub(replace_slang, text)\n",
    "\n",
    "    return filtered_text.lower()  # Optionally convert to lowercase\n",
    "\n",
    "# Apply the conversion function to your DataFrame's 'tweet' column\n",
    "df_twitter['tweet'] = df_twitter['tweet'].apply(convertToSlangword)\n"
   ]
  },
  {
   "cell_type": "code",
   "execution_count": 28,
   "id": "cb61f1da",
   "metadata": {
    "scrolled": true
   },
   "outputs": [
    {
     "data": {
      "text/plain": [
       "483     dampak ekonomi tidak langsung asian games 2018...\n",
       "559                    gaji ditransfer saja hemat ongkos \n",
       "1345    daftar janji prabowosandi gaji pns hingga diri...\n",
       "1023    ketika seorang presiden menganggap mainan boca...\n",
       "634     tidak ambil gaji tapi perusahaanya siap mengua...\n",
       "1038    jika mau harga bahan pokok terjangkau tenaga m...\n",
       "982     sudah ekonomi tidak tumbuh pemerataan semakin ...\n",
       "480     total dampak dari asian games 2018 berkontribu...\n",
       "1526    ps bolakbalik menyinggung soal deindustrialisa...\n",
       "1736    barangkali karena trend pertumbuhan ekonomi 20...\n",
       "Name: tweet, dtype: object"
      ]
     },
     "execution_count": 28,
     "metadata": {},
     "output_type": "execute_result"
    }
   ],
   "source": [
    "df_twitter['tweet'].sample(10)"
   ]
  },
  {
   "cell_type": "markdown",
   "id": "06f812f9",
   "metadata": {},
   "source": [
    "### SHORTWORDS CONVERSION"
   ]
  },
  {
   "cell_type": "code",
   "execution_count": 29,
   "id": "9192cc65",
   "metadata": {
    "scrolled": true
   },
   "outputs": [
    {
     "data": {
      "text/html": [
       "<div>\n",
       "<style scoped>\n",
       "    .dataframe tbody tr th:only-of-type {\n",
       "        vertical-align: middle;\n",
       "    }\n",
       "\n",
       "    .dataframe tbody tr th {\n",
       "        vertical-align: top;\n",
       "    }\n",
       "\n",
       "    .dataframe thead th {\n",
       "        text-align: right;\n",
       "    }\n",
       "</style>\n",
       "<table border=\"1\" class=\"dataframe\">\n",
       "  <thead>\n",
       "    <tr style=\"text-align: right;\">\n",
       "      <th></th>\n",
       "      <th>short</th>\n",
       "      <th>conversion</th>\n",
       "    </tr>\n",
       "  </thead>\n",
       "  <tbody>\n",
       "    <tr>\n",
       "      <th>0</th>\n",
       "      <td>aja</td>\n",
       "      <td>saja</td>\n",
       "    </tr>\n",
       "    <tr>\n",
       "      <th>1</th>\n",
       "      <td>akn</td>\n",
       "      <td>akan</td>\n",
       "    </tr>\n",
       "    <tr>\n",
       "      <th>2</th>\n",
       "      <td>aku</td>\n",
       "      <td>saya</td>\n",
       "    </tr>\n",
       "    <tr>\n",
       "      <th>3</th>\n",
       "      <td>amien</td>\n",
       "      <td>aamiin</td>\n",
       "    </tr>\n",
       "    <tr>\n",
       "      <th>4</th>\n",
       "      <td>amin</td>\n",
       "      <td>aamiin</td>\n",
       "    </tr>\n",
       "    <tr>\n",
       "      <th>...</th>\n",
       "      <td>...</td>\n",
       "      <td>...</td>\n",
       "    </tr>\n",
       "    <tr>\n",
       "      <th>180</th>\n",
       "      <td>y</td>\n",
       "      <td>ya</td>\n",
       "    </tr>\n",
       "    <tr>\n",
       "      <th>181</th>\n",
       "      <td>yg</td>\n",
       "      <td>yang</td>\n",
       "    </tr>\n",
       "    <tr>\n",
       "      <th>182</th>\n",
       "      <td>yng</td>\n",
       "      <td>yang</td>\n",
       "    </tr>\n",
       "    <tr>\n",
       "      <th>183</th>\n",
       "      <td>endonesa</td>\n",
       "      <td>indonesia</td>\n",
       "    </tr>\n",
       "    <tr>\n",
       "      <th>184</th>\n",
       "      <td>ia</td>\n",
       "      <td>dia</td>\n",
       "    </tr>\n",
       "  </tbody>\n",
       "</table>\n",
       "<p>185 rows × 2 columns</p>\n",
       "</div>"
      ],
      "text/plain": [
       "        short conversion\n",
       "0         aja       saja\n",
       "1         akn       akan\n",
       "2         aku       saya\n",
       "3       amien     aamiin\n",
       "4        amin     aamiin\n",
       "..        ...        ...\n",
       "180         y         ya\n",
       "181        yg       yang\n",
       "182       yng       yang\n",
       "183  endonesa  indonesia\n",
       "184        ia        dia\n",
       "\n",
       "[185 rows x 2 columns]"
      ]
     },
     "execution_count": 29,
     "metadata": {},
     "output_type": "execute_result"
    }
   ],
   "source": [
    "# Load the shortwords dictionary \n",
    "shortwords = pd.read_csv(\"C:/Users/ejhas/OneDrive/Documents/miracles/JOBS/AI Bootcamp/project1/Dataset/singkatan-lib.csv\", header=None, names=['short', 'conversion'])\n",
    "shortwords"
   ]
  },
  {
   "cell_type": "code",
   "execution_count": 30,
   "id": "8e8d2ab0",
   "metadata": {},
   "outputs": [],
   "source": [
    "# Create a dictionary from the DataFrame\n",
    "kamusSlang = dict(zip(shortwords['short'], shortwords['conversion']))\n",
    "\n",
    "# Define a function to convert short words to standard words\n",
    "def convertToShortWord(text):\n",
    "    # Create a regex pattern to match short words\n",
    "    pattern = re.compile(r'\\b(' + '|'.join(re.escape(k) for k in kamusSlang.keys()) + r')\\b')\n",
    "\n",
    "    # Function to replace short words with standard words\n",
    "    def replace_short(match):\n",
    "        return kamusSlang[match.group()]\n",
    "\n",
    "    # Apply the pattern substitution to the text\n",
    "    filtered_text = pattern.sub(replace_short, text)\n",
    "\n",
    "    return filtered_text.lower()  # Optionally convert to lowercase\n",
    "\n",
    "# Apply the conversion function to your DataFrame's 'tweet' column\n",
    "df_twitter['tweet'] = df_twitter['tweet'].apply(convertToShortWord)\n"
   ]
  },
  {
   "cell_type": "code",
   "execution_count": 31,
   "id": "d8932cbc",
   "metadata": {
    "scrolled": true
   },
   "outputs": [
    {
     "name": "stdout",
     "output_type": "stream",
     "text": [
      "0       kata prabowo indonesia tidak dihargai bangsa a...\n",
      "1       batuan langka tasbih jokowi hadiah dari habib ...\n",
      "2       di era jokowi ekonomi indonesia semakin baik p...\n",
      "3       bagi sumatera selatan asian games berdampak pa...\n",
      "4       negara kita hutang buat bngun infrastruktur ya...\n",
      "                              ...                        \n",
      "1810    negarawan sejati selalu bangga dan mengedepank...\n",
      "1811    1 harus ceramah di damai indonesiaku 2 perekon...\n",
      "1812    mari bangun bangsa dengan mendukung perekonomi...\n",
      "1813    bantu majukan perekonomian bangsa bersama pak ...\n",
      "1814    pak jokowi mengubah cara pandang ekonomi kini ...\n",
      "Name: tweet, Length: 1815, dtype: object\n"
     ]
    }
   ],
   "source": [
    "print(df_twitter['tweet'])"
   ]
  },
  {
   "cell_type": "markdown",
   "id": "2a8e8711",
   "metadata": {},
   "source": [
    "### STOPWORDS REMOVAL"
   ]
  },
  {
   "cell_type": "code",
   "execution_count": 32,
   "id": "aaf4dbef",
   "metadata": {},
   "outputs": [],
   "source": [
    "# %%time\n",
    "# !pip uninstall scikit-learn nlp_id"
   ]
  },
  {
   "cell_type": "code",
   "execution_count": 33,
   "id": "263776ae",
   "metadata": {},
   "outputs": [],
   "source": [
    "#3pip install scikit-learn==0.22 nlp_id==0.1.12.0\n"
   ]
  },
  {
   "cell_type": "code",
   "execution_count": 2,
   "id": "8555b8d1",
   "metadata": {},
   "outputs": [
    {
     "name": "stdout",
     "output_type": "stream",
     "text": [
      "['ada', 'adalagi', 'adalah', 'adanya', 'adapun', 'agak', 'agak-agak', 'agaknya', 'agar', 'aja', 'akan', 'akankah', 'akankan', 'akhir', 'akhir-akhirnya', 'akhirannya', 'akhiri', 'akhirinya', 'akhirnya', 'aku', 'akulah', 'akunya', 'akurat', 'akutu', 'ala', 'alamak', 'alhamdulillah', 'alhasil', 'amat', 'amat-amat', 'amatlah', 'anda', 'anda-anda', 'andai', 'andalah', 'antar', 'antara', 'antaranya', 'apa', 'apa-apanya', 'apaan', 'apabila', 'apaitu', 'apakah', 'apalagi', 'apanya', 'apasaja', 'apatah', 'apesnya', 'arah', 'artinya', 'asal', 'asalkan', 'asumsinya', 'asumsikan', 'atas', 'atas-atas', 'atas-batas', 'ataspun', 'atau', 'ataukah', 'ataupun', 'awal', 'awalnya', 'bagai', 'bagaikan', 'bagaimana', 'bagaimanakah', 'bagaimanapun', 'bagi', 'bagi-bagi', 'bagian', 'bagikan', 'bahasakan', 'bahasanya', 'bahkan', 'bahwa', 'bahwasanya', 'baik', 'bak', 'bakal', 'bakal-bakal', 'bakalan', 'balik', 'balikan', 'balikkan', 'banget', 'banget-banget', 'banyak', 'barangkali', 'baru', 'baru-baru', 'bawah', 'beberapa', 'begini', 'begini-begini', 'begini-begitu', 'begini-gini', 'beginian', 'beginikah', 'beginilah', 'begitu', 'begitu-begitu', 'begitu-gitu', 'begitukah', 'begitulah', 'begitupula', 'begitupun', 'bekerja', 'belakang', 'belakangan', 'beliau', 'beliau-beliau', 'beliaupun', 'belum', 'belumlah', 'benar', 'benar-benar', 'benarkah', 'benarlah', 'bener-benar', 'berada', 'berakhir', 'berakhirlah', 'berakhirnya', 'berapa', 'berapa-berapa', 'berapakah', 'berapalah', 'berapapun', 'berarti', 'berawal', 'berbagai', 'berbagi', 'berberapa', 'berdatangan', 'beri', 'berikan', 'berikut', 'berikutnya', 'beritagar', 'beritasatu', 'berjumlah', 'berkali', 'berkali-berkali', 'berkali-kali', 'berkata', 'berkehendak', 'berkeinginan', 'berkenaan', 'berlainan', 'berlaku', 'berlalu', 'berlangsung', 'berlebihan', 'bermacam', 'bermacam-macam', 'bermaksud', 'bermula', 'bersama', 'bersama-sama', 'bersiap', 'bersiap-siap', 'bertanya', 'bertanya-tanya', 'bertapa', 'berturut', 'berturut-turut', 'bertutur', 'berujar', 'berulang-kali', 'berulangkali', 'berupa', 'beserta', 'betul', 'betulkah', 'biasa', 'biasanya', 'bila', 'bilakah', 'bilamana', 'bisa', 'bisa-bisa', 'bisakah', 'bisanya', 'bocorannya', 'bocornya', 'boleh', 'boleh-boleh', 'bolehkah', 'bolehlah', 'bolehnya', 'bu', 'buat', 'buat-buat', 'bukan', 'bukankah', 'bukanlah', 'bukannya', 'bulan', 'bung', 'cara', 'caranya', 'ceileh', 'cieegitu', 'cieleh', 'ciri', 'ciri-ciri', 'cm', 'co', 'contoh', 'contohnya', 'cok', 'cuitannya', 'cuk', 'cukup', 'cukup-cukup', 'cukupkah', 'cukuplah', 'cukuuppp', 'cuma', 'cuma-cuma', 'cuy', 'dahulu', 'dalam', 'dalam-dalam', 'dan', 'dapat', 'dapat-dapat', 'dari', 'dariada', 'darimana', 'daripada', 'darisana', 'datang', 'deg', 'deg-degan', 'degan', 'dekat', 'demi', 'demikian', 'demikianlah', 'demonstran', 'dengan', 'depan', 'depan-depan', 'detail', 'di', 'dia', 'diakhiri', 'diakhirinya', 'dialah', 'diantara', 'diantaranya', 'dibagi-bagi', 'diberi', 'diberikan', 'diberikannya', 'dibuat', 'dibuatnya', 'didapat', 'didatangkan', 'digunakan', 'diibaratkan', 'diibaratkannya', 'diingat', 'diingatkan', 'diinginkan', 'dijamu', 'dijawab', 'dijelaskan', 'dijelaskannya', 'dikarenakan', 'dikatakan', 'dikatakannya', 'dikerjakan', 'diketahui', 'diketahuinya', 'dikira', 'dilakukan', 'dilalui', 'dilihat', 'dimaksud', 'dimaksudkan', 'dimaksudkannya', 'dimaksudnya', 'dimana', 'diminta', 'dimintai', 'dimisalkan', 'dimulai', 'dimulailah', 'dimulainya', 'dimungkinkan', 'dini', 'dipastikan', 'diperbuat', 'diperbuatnya', 'dipergunakan', 'diperkirakan', 'diperlihatkan', 'diperlukan', 'diperlukannya', 'diperoleh', 'dipersoalkan', 'dipertanyakan', 'dipidana', 'dipunyai', 'diri', 'dirinya', 'disampaikan', 'disana', 'disebut', 'disebutkan', 'disebutkannya', 'disini', 'disinilah', 'disitu', 'ditambahkan', 'ditandaskan', 'ditanya', 'ditanyai', 'ditanyakan', 'ditegaskan', 'ditujukan', 'ditunjuk', 'ditunjuki', 'ditunjukkan', 'ditunjukkannya', 'ditunjuknya', 'dituturkan', 'dituturkannya', 'diucapkan', 'diucapkannya', 'diungkapkan', 'diwaktu', 'diyakini', 'dkk', 'dll', 'doang', 'dong', 'doonggg', 'dsb', 'dst', 'dua', 'dulu', 'efektifkah', 'eleh', 'emang', 'empat', 'engkaulah', 'entah', 'entahlah', 'enyahlah', 'exsitu', 'gitu', 'gitu-gitu', 'gua', 'gue', 'gue-gue', 'guna', 'guna-guna', 'gunakan', 'halah', 'hampir', 'hampir-hampir', 'hanya', 'hanyalah', 'hari', 'harus', 'haruslah', 'harusnya', 'hendak', 'hendaklah', 'hendaknya', 'http', 'ia', 'ialah', 'ibarat', 'ibaratkan', 'ibaratnya', 'ibu', 'ikut', 'infonitas', 'ingat', 'ingat-ingat', 'ingin', 'ingin-ingin', 'inginkah', 'inginkan', 'ini', 'ini-ini', 'ini-itu', 'ini-kesini', 'inikah', 'inilah', 'insitu', 'insyaallah', 'itu', 'itu-begitu', 'itu-itu', 'itukah', 'itulah', 'iya', 'jadi', 'jadilah', 'jadinya', 'jangan', 'jangankan', 'janganlah', 'jarang', 'jarang-jarang', 'jauh', 'jawab', 'jawaban', 'jawabnya', 'jelas', 'jelaskan', 'jelaslah', 'jelasnya', 'jika', 'jikalau', 'jikapun', 'juga', 'jumat', 'jumlah', 'jumlahnya', 'juru', 'justru', 'kabarin', 'kabarkota', 'kadang', 'kadang-kadang', 'kala', 'kalapun', 'kalau', 'kalau-kalau', 'kalaulah', 'kalaupun', 'kali', 'kalian', 'kalianlah', 'kalopun', 'kami', 'kami-kami', 'kamilah', 'kamipun', 'kamis', 'kamu', 'kamu-kamu', 'kamulah', 'kamupun', 'kan', 'kandaskan', 'kapan', 'kapan-kapan', 'kapankah', 'kapanpun', 'karena', 'karena-karena', 'karenanya', 'kasus', 'kata', 'katakan', 'katakanlah', 'katamu', 'katanya', 'kau', 'kau-lah', 'kaulah', 'ke', 'keadaan', 'kebetulan', 'kecil', 'kecuali', 'kedua', 'keduanya', 'keinginan', 'kelamaan', 'kelihatan', 'kelihatannya', 'kelima', 'keluar', 'kembali', 'kemudian', 'kemungkinan', 'kemungkinannya', 'kenapa', 'kenapa-kenapa', 'kenapa-napa', 'kendati', 'kepada', 'kepada-kepada', 'kepadanya', 'kerap', 'kesampaian', 'keseluruhan', 'keseluruhannya', 'keterlaluan', 'ketika', 'ketimbang', 'kewaspada', 'kg', 'khususnya', 'kini', 'kinilah', 'kira', 'kira-kira', 'kira-kiranya', 'kiranya', 'kita', 'kita-kita', 'kitalah', 'km', 'kok', 'kurang', 'kurang-kurang', 'kurang-lebih', 'lagi', 'lagi-lagi', 'lagian', 'lagilah', 'lagipula', 'lah', 'laik', 'lain', 'lainnya', 'lalu', 'lalulah', 'lama', 'lamanya', 'lanjut', 'lanjutnya', 'lantaran', 'layaklah', 'layaknya', 'lebih', 'lebih-lebih', 'lewat', 'lima', 'lt', 'luar', 'lur', 'macam', 'mah', 'maka', 'makanya', 'makasih', 'makin', 'makin-makin', 'malah', 'malahan', 'mampu', 'mampukah', 'mana', 'manakala', 'manalagi', 'manasih', 'mas', 'masa', 'masalah', 'masalahnya', 'masih', 'masih-masih', 'masihkah', 'masing', 'masing-masing', 'mau', 'mau-mau', 'maupun', 'mba', 'melainkan', 'melakukan', 'melalui', 'melihat', 'melihatnya', 'memang', 'memang-memang', 'memangnya', 'memastikan', 'memberi', 'memberikan', 'membuat', 'memerlukan', 'memihak', 'meminta', 'memintakan', 'memisalkan', 'memperbuat', 'mempergunakan', 'memperkirakan', 'memperlihatkan', 'mempersiapkan', 'mempersoalkan', 'mempertanyakan', 'mempunyai', 'memulai', 'memungkinkan', 'menaiki', 'menambahkan', 'menandaskan', 'menanti', 'menanti-nanti', 'menantikan', 'menanya', 'menanyai', 'menanyakan', 'mendapat', 'mendapatkan', 'mendatang', 'mendatangi', 'mendatangkan', 'menegaskan', 'mengakhiri', 'mengakhirkan', 'mengapa', 'mengatakan', 'mengatakannya', 'mengenai', 'mengerjakan', 'mengetahui', 'menggunakan', 'menghendaki', 'mengibaratkan', 'mengibaratkannya', 'mengingat', 'mengingatkan', 'menginginkan', 'mengira', 'mengucapkan', 'mengucapkannya', 'mengungkapkan', 'menjadi', 'menjawab', 'menjelaskan', 'menuju', 'menunjuk', 'menunjuki', 'menunjukkan', 'menunjuknya', 'menurut', 'menurutmu', 'menurutnya', 'menuturkan', 'menyampaikan', 'menyangkut', 'menyatakan', 'menyebutkan', 'menyeluruh', 'menyiapkan', 'merahputih', 'merasa', 'merdeka', 'mereka', 'mereka-mereka', 'mereka-reka', 'merekalah', 'merupakan', 'meski', 'meskipun', 'mesti', 'mestinya', 'mestipun', 'meyakini', 'meyakinkan', 'milih', 'milih-milih', 'minggu', 'minta', 'mirip', 'mirisnya', 'misal', 'misalkan', 'misalnya', 'mula', 'mula-mula', 'mulai', 'mulailah', 'mulanya', 'mungkin', 'mungkin-mungkin', 'mungkinkah', 'nah', 'naik', 'namun', 'nanti', 'nantinya', 'nanya', 'nanya-nanya', 'netralitas', 'nya', 'nyaris', 'nyata-nyatanya', 'nyatanya', 'oke', 'oleh', 'olehnya', 'pada', 'padahal', 'padanya', 'pak', 'paling', 'paling-paling', 'panjang', 'pantas', 'para', 'pas', 'pasti', 'pastilah', 'pengen', 'pingin', 'penting', 'pentingnya', 'per', 'percuma', 'perihal', 'perlu', 'perlu-perlu', 'perlukah', 'perlunya', 'pernah', 'persoalan', 'pertama', 'pertama-tama', 'pertanyaan', 'pertanyakan', 'pihak', 'pihaknya', 'pukul', 'pula', 'pun', 'punya', 'rabu', 'rasa', 'rasa-rasanya', 'rasanya', 'rata', 'rata-ratanya', 'rupa-rupanya', 'rupanya', 'rute', 'saat', 'saat-saat', 'saatnya', 'sabtu', 'safaat', 'sahaja', 'saja', 'sajalah', 'saling', 'sama', 'sama-sama', 'sambil', 'sampai', 'sampai-sampai', 'sampaikan', 'sana', 'sana-sana', 'sanalah', 'sang', 'sangalah', 'sangat', 'sangat-lah', 'sangat-sangat', 'sangatlah', 'sangking', 'sanglah', 'santailah', 'satu', 'satu-pun', 'satuanya', 'satunya', 'satupun', 'saya', 'sayalah', 'se', 'seadanya', 'seandainya', 'sebab', 'sebab-musabab', 'sebab-musababnya', 'sebab-sebab', 'sebab-sebabnya', 'sebabnya', 'sebagai', 'sebagai-nya', 'sebagai-sebagainya', 'sebagaimana', 'sebagaimananya', 'sebagaimanapun', 'sebagain', 'sebagainya', 'sebagian', 'sebagiannya', 'sebaginya', 'sebaik', 'sebaik-baiknya', 'sebaiknya', 'sebaliknya', 'sebanyak', 'sebegini', 'sebegitu', 'sebegitunya', 'sebelahnya', 'sebelahya', 'sebelum', 'sebelum-nya', 'sebelum-sebelum', 'sebelum-sebelumnya', 'sebelumnya', 'sebelumnya-belum', 'sebelumnya-misalnya', 'sebelumnya-sebelumnya', 'sebenar-benarnya', 'sebenarnya', 'sebenernya', 'seberangnya', 'seberapa', 'seberapanya', 'seberapapun', 'sebetuknya', 'sebetulnya', 'sebisanya', 'sebuah', 'sebut', 'sebutannya', 'sebutlah', 'sebutnya', 'secara', 'secukupnya', 'secukupunya', 'sedalam-dalamnya', 'sedang', 'sedang-sedang', 'sedangkan', 'sedangnya', 'sedangpun', 'sedari', 'sedarinya', 'sedemikian', 'sedemikiannya', 'sederajatnya', 'sediakalanya', 'sediakan', 'sedianya', 'sedikit', 'sedikitnya', 'seenaknya', 'segala', 'segala-galanya', 'segalanya', 'segamblang-gamblangnya', 'segera', 'segerakan', 'segeranya', 'segini-gininya', 'segininya', 'segitu', 'segitu-gitu', 'segitu-segitu', 'segitunya', 'segmen-nya', 'segmen-segmennya', 'segmennya', 'segmentasinya', 'sehalu', 'sehari', 'sehari-harinya', 'sehari-seharinya', 'seharinya', 'seharusnya', 'sehelainya', 'sehingga', 'sehingganya', 'seikhlasnya', 'seiklasnya', 'seimbangnya', 'seingat', 'seiringnya', 'sejak', 'sejatinya', 'sejauh', 'sejelas-jelasnya', 'sejenak', 'sejenak-sejenak', 'sejenisnya', 'sejumlah', 'sekadar', 'sekadarnya', 'sekali', 'sekali-kali', 'sekali-sekali', 'sekalian', 'sekaligus', 'sekalinya', 'sekalinyapun', 'sekalipun', 'sekarang', 'sekarangpun', 'sekedar', 'seketika', 'sekian', 'sekian-sekian', 'sekilas', 'sekira', 'sekiranya', 'sekitar', 'sekitarnya', 'sekitarnyapun', 'sekurang-kurangnya', 'sekurangnya', 'sela', 'selaiknya', 'selain', 'selainnya', 'selaku', 'selalu', 'selama', 'selama-lamanya', 'selamanya', 'selanjutnya', 'selasa', 'selesain', 'selesainya', 'seluruh', 'seluruhnya', 'semacam', 'semacamnya', 'semakin', 'semampu', 'semampunya', 'semaraknya', 'semasa', 'semasih', 'semata', 'semata-mata', 'semaunya', 'sembarang', 'sembarangannya', 'semenjak', 'sementara', 'sementaranya', 'semestinya', 'semisal', 'semisalnya', 'sempat', 'sempat-sempat', 'sempat-sempatnya', 'sempatin', 'sempatnya', 'sempet-sempetnya', 'sempetin', 'sempetnya', 'semua', 'semuanya', 'semula', 'sendiri', 'sendirian', 'sendirinya', 'senin', 'seolah', 'seolah-olah', 'seorang', 'seorangnya', 'seorangpun', 'sepanjang', 'sepantarnya', 'sepantasnya', 'sepantasnyalah', 'sepengamatannya', 'sepengetahuannya', 'sepenuhnya', 'seperlunya', 'seperti', 'sepertihalnya', 'sepertinya', 'sepihak', 'seputar', 'seputarannya', 'seputarnya', 'sering', 'sering-sering', 'sering-seringnya', 'seringnya', 'serius', 'serta', 'serta-mereta', 'serta-merta', 'sertamerta', 'serupa', 'sesaat', 'sesama', 'sesamanya', 'sesampai', 'sesampainya', 'sesegera', 'sesegeranya', 'sesekali', 'sesempatnya', 'seseorang', 'sesuainya', 'sesuatu', 'sesuatunya', 'sesuatupun', 'sesudah', 'sesudahnya', 'sesungguhnya', 'setelah', 'setelahnya', 'setempat', 'setengah', 'seterusnya', 'seterusnya-seterusnya', 'seterusnyalah', 'setiap', 'setiba', 'setibanya', 'setinggi', 'seumpamanya', 'seusai', 'seusainya', 'seutuhnya', 'sewaktu', 'seyakin', 'seyakin-yakinnya', 'seyogianya', 'si', 'siap', 'siapa', 'siapa-siapa', 'siapakah', 'siapalah', 'siapapun', 'siapasih', 'sih', 'sini', 'sini-sini', 'sinilah', 'sinipun', 'situ', 'situ-situ', 'soal', 'soalnya', 'suara', 'suatu', 'sudah', 'sudah-sudah', 'sudahkah', 'sudahlah', 'sungguh', 'sungguh-sungguh', 'supaya', 'suratkabar', 'tadi', 'tadi-tadi', 'tadinya', 'tahu', 'tahun', 'tambah', 'tambahnya', 'tampak', 'tampaknya', 'tandas', 'tandasnya', 'tanpa', 'tanya', 'tanyakan', 'tanyanya', 'tapi', 'tapi-tapi', 'tatkala', 'tegas', 'tegasnya', 'telaah', 'telah', 'tempat', 'tengah', 'tengahlah', 'tentang', 'tentu', 'tentulah', 'tentunya', 'tepat', 'tepatnya', 'terakhir', 'terasa', 'terbanyak', 'terbilang', 'terdahulu', 'terdapat', 'terdiri', 'terhadap', 'terhadapnya', 'teringat', 'teringat-ingat', 'terjadi', 'terjadilah', 'terjadinya', 'terkadang', 'terkira', 'terlalu', 'terlalu-terlalu', 'terlebih', 'terlihat', 'termasuk', 'ternyata', 'tersampaikan', 'tersebut', 'tersebutlah', 'tertarik', 'tertentu', 'tertuju', 'terus', 'terus-menerus', 'terus-terus', 'terutama', 'tetap', 'tetapi', 'tetaplah', 'tetapnya', 'tiap', 'tiba', 'tiba-tiba', 'tidak', 'tidakkah', 'tidaklah', 'tiga', 'tinggi', 'toh', 'ton', 'tunjuk', 'turut', 'tutur', 'tuturnya', 'ucap', 'ucapnya', 'udah', 'udah-udah', 'ujar', 'ujarnya', 'umpamanya', 'umum', 'umum-nya', 'umumnya', 'ungkap', 'ungkapnya', 'untuk', 'untuk-untuk', 'usah', 'usai', 'via', 'waduh', 'wah', 'wahai', 'waktu', 'waktunya', 'walau', 'walaupun', 'walhasil', 'walopun', 'wow', 'www', 'ya', 'yaitu', 'yakin', 'yakni', 'yang', 'yg']\n"
     ]
    }
   ],
   "source": [
    "from sklearn.feature_extraction.text import CountVectorizer\n",
    "import pandas as pd\n",
    "from nlp_id import StopWord\n",
    "\n",
    "stopword = StopWord()\n",
    "stop_words = stopword.get_stopword()\n",
    "print(stop_words)"
   ]
  },
  {
   "cell_type": "code",
   "execution_count": 34,
   "id": "fa5d6c7e",
   "metadata": {},
   "outputs": [],
   "source": [
    "# Function to remove stopwords from a text\n",
    "def remove_stopwords(text):\n",
    "    words = text.split()\n",
    "    filtered_words = [word for word in words if word.lower() not in stop_words]\n",
    "    return ' '.join(filtered_words)\n",
    "\n",
    "# Apply the remove_stopwords function to the 'tweet' column\n",
    "df_twitter['tweet'] = df_twitter['tweet'].apply(remove_stopwords)"
   ]
  },
  {
   "cell_type": "code",
   "execution_count": 35,
   "id": "d51e0402",
   "metadata": {},
   "outputs": [
    {
     "name": "stdout",
     "output_type": "stream",
     "text": [
      "0       prabowo indonesia dihargai bangsa asing berita...\n",
      "1       batuan langka tasbih jokowi hadiah habib luthf...\n",
      "2       era jokowi ekonomi indonesia pictwittercomw2yt...\n",
      "3       sumatera selatan asian games berdampak ekonomi...\n",
      "4       negara hutang bngun infrastruktur dipake masya...\n",
      "                              ...                        \n",
      "1810    negarawan sejati bangga mengedepankan harga ba...\n",
      "1811    1 ceramah damai indonesiaku 2 perekonomian mem...\n",
      "1812    mari bangun bangsa mendukung perekonomian nega...\n",
      "1813    bantu majukan perekonomian bangsa jokowi yuk h...\n",
      "1814    jokowi mengubah pandang ekonomi orang terhubun...\n",
      "Name: tweet, Length: 1815, dtype: object\n"
     ]
    }
   ],
   "source": [
    "print(df_twitter['tweet'])"
   ]
  },
  {
   "cell_type": "markdown",
   "id": "1a9a6a14",
   "metadata": {
    "scrolled": true
   },
   "source": [
    "### Stemming or Lemmatization"
   ]
  },
  {
   "cell_type": "code",
   "execution_count": 38,
   "id": "98e77554",
   "metadata": {
    "scrolled": true
   },
   "outputs": [
    {
     "name": "stdout",
     "output_type": "stream",
     "text": [
      "Collecting Sastrawi\n",
      "  Using cached Sastrawi-1.0.1-py2.py3-none-any.whl (209 kB)\n",
      "Installing collected packages: Sastrawi\n",
      "Successfully installed Sastrawi-1.0.1\n",
      "Collecting swifter\n",
      "  Using cached swifter-1.4.0.tar.gz (1.2 MB)\n",
      "  Preparing metadata (setup.py): started\n",
      "  Preparing metadata (setup.py): finished with status 'done'\n",
      "Requirement already satisfied: pandas>=1.0.0 in c:\\users\\ejhas\\anaconda3\\envs\\myenv\\lib\\site-packages (from swifter) (1.3.5)\n",
      "Requirement already satisfied: psutil>=5.6.6 in c:\\users\\ejhas\\anaconda3\\envs\\myenv\\lib\\site-packages (from swifter) (5.9.0)\n",
      "Collecting dask[dataframe]>=2.10.0\n",
      "  Downloading dask-2022.2.0-py3-none-any.whl (1.1 MB)\n",
      "     ---------------------------------------- 1.1/1.1 MB 11.1 MB/s eta 0:00:00\n",
      "Collecting tqdm>=4.33.0\n",
      "  Downloading tqdm-4.66.1-py3-none-any.whl (78 kB)\n",
      "     ---------------------------------------- 78.3/78.3 kB ? eta 0:00:00\n",
      "Collecting cloudpickle>=1.1.1\n",
      "  Downloading cloudpickle-2.2.1-py3-none-any.whl (25 kB)\n",
      "Collecting pyyaml>=5.3.1\n",
      "  Downloading PyYAML-6.0.1-cp37-cp37m-win_amd64.whl (153 kB)\n",
      "     -------------------------------------- 153.2/153.2 kB 8.9 MB/s eta 0:00:00\n",
      "Collecting fsspec>=0.6.0\n",
      "  Downloading fsspec-2023.1.0-py3-none-any.whl (143 kB)\n",
      "     -------------------------------------- 143.0/143.0 kB 8.3 MB/s eta 0:00:00\n",
      "Collecting toolz>=0.8.2\n",
      "  Using cached toolz-0.12.0-py3-none-any.whl (55 kB)\n",
      "Requirement already satisfied: packaging>=20.0 in c:\\users\\ejhas\\anaconda3\\envs\\myenv\\lib\\site-packages (from dask[dataframe]>=2.10.0->swifter) (22.0)\n",
      "Collecting partd>=0.3.10\n",
      "  Using cached partd-1.4.1-py3-none-any.whl (18 kB)\n",
      "Requirement already satisfied: numpy>=1.18 in c:\\users\\ejhas\\anaconda3\\envs\\myenv\\lib\\site-packages (from dask[dataframe]>=2.10.0->swifter) (1.21.6)\n",
      "Requirement already satisfied: pytz>=2017.3 in c:\\users\\ejhas\\anaconda3\\envs\\myenv\\lib\\site-packages (from pandas>=1.0.0->swifter) (2022.7)\n",
      "Requirement already satisfied: python-dateutil>=2.7.3 in c:\\users\\ejhas\\anaconda3\\envs\\myenv\\lib\\site-packages (from pandas>=1.0.0->swifter) (2.8.2)\n",
      "Requirement already satisfied: colorama in c:\\users\\ejhas\\anaconda3\\envs\\myenv\\lib\\site-packages (from tqdm>=4.33.0->swifter) (0.4.6)\n",
      "Collecting locket\n",
      "  Using cached locket-1.0.0-py2.py3-none-any.whl (4.4 kB)\n",
      "Requirement already satisfied: six>=1.5 in c:\\users\\ejhas\\anaconda3\\envs\\myenv\\lib\\site-packages (from python-dateutil>=2.7.3->pandas>=1.0.0->swifter) (1.16.0)\n",
      "Building wheels for collected packages: swifter\n",
      "  Building wheel for swifter (setup.py): started\n",
      "  Building wheel for swifter (setup.py): finished with status 'done'\n",
      "  Created wheel for swifter: filename=swifter-1.4.0-py3-none-any.whl size=16519 sha256=07604335df5f02538a88035f2c74864d0280ecaaacf978e09232716264215f5f\n",
      "  Stored in directory: c:\\users\\ejhas\\appdata\\local\\pip\\cache\\wheels\\ce\\c0\\e1\\019a976b22957c889d3e3993ebc893553a5ee5bdd92f68f1cf\n",
      "Successfully built swifter\n",
      "Installing collected packages: tqdm, toolz, pyyaml, locket, fsspec, cloudpickle, partd, dask, swifter\n",
      "Successfully installed cloudpickle-2.2.1 dask-2022.2.0 fsspec-2023.1.0 locket-1.0.0 partd-1.4.1 pyyaml-6.0.1 swifter-1.4.0 toolz-0.12.0 tqdm-4.66.1\n"
     ]
    }
   ],
   "source": [
    "# !pip install Sastrawi\n",
    "# !pip install swifter"
   ]
  },
  {
   "cell_type": "code",
   "execution_count": 39,
   "id": "85d5323e",
   "metadata": {},
   "outputs": [],
   "source": [
    "from Sastrawi.Stemmer.StemmerFactory import StemmerFactory\n",
    "import swifter"
   ]
  },
  {
   "cell_type": "code",
   "execution_count": 40,
   "id": "83a3546d",
   "metadata": {},
   "outputs": [],
   "source": [
    "# Create a stemmer instance\n",
    "stemmer = StemmerFactory().create_stemmer()"
   ]
  },
  {
   "cell_type": "code",
   "execution_count": 41,
   "id": "afa2eb2d",
   "metadata": {},
   "outputs": [],
   "source": [
    "import tqdm"
   ]
  },
  {
   "cell_type": "code",
   "execution_count": null,
   "id": "4bed5746",
   "metadata": {},
   "outputs": [
    {
     "name": "stderr",
     "output_type": "stream",
     "text": [
      " 47%|█████████████████████████████████████▍                                         | 861/1815 [07:48<05:15,  3.02it/s]"
     ]
    }
   ],
   "source": [
    "%%time\n",
    "\n",
    "# Apply stemming to the 'tweet' column and print the results\n",
    "df_twitter['tweet'] = [stemmer.stem(x) for x in tqdm.tqdm(df_twitter['tweet'])]\n",
    "print(df_twitter['tweet'])"
   ]
  },
  {
   "cell_type": "markdown",
   "id": "f79f390a",
   "metadata": {},
   "source": [
    "### Word Tokenization"
   ]
  },
  {
   "cell_type": "code",
   "execution_count": 62,
   "id": "5466f8c7",
   "metadata": {},
   "outputs": [
    {
     "data": {
      "text/plain": [
       "(array(['negatif', 'netral', 'positif'], dtype=object), array([0, 1, 2]))"
      ]
     },
     "execution_count": 62,
     "metadata": {},
     "output_type": "execute_result"
    }
   ],
   "source": [
    "label_encoder = LabelEncoder()\n",
    "df_twitter['target'] = label_encoder.fit_transform(df_twitter['sentimen'])\n",
    "\n",
    "label_encoder.classes_, label_encoder.transform(label_encoder.classes_)"
   ]
  },
  {
   "cell_type": "code",
   "execution_count": 124,
   "id": "29a267f3",
   "metadata": {},
   "outputs": [],
   "source": [
    "import numpy as np\n",
    "import matplotlib.pyplot as plt\n",
    "import seaborn as sns\n",
    "\n",
    "from sklearn.preprocessing import LabelEncoder\n",
    "from sklearn.model_selection import train_test_split\n",
    "from sklearn.feature_extraction.text import CountVectorizer, TfidfVectorizer\n",
    "from sklearn.metrics import confusion_matrix, classification_report, accuracy_score\n",
    "#train_idx, test_idx = train_test_split(np.arange(len(df_twitter)), test_size=0.2, random_state=95)\n",
    "X_train_text, X_test_text, Y_train, Y_test = train_test_split(df_twitter[\"tweet\"], \n",
    "                                                    df_twitter['target'] , \n",
    "                                                    test_size=0.2,\n",
    "                                                    random_state=95)"
   ]
  },
  {
   "cell_type": "code",
   "execution_count": 125,
   "id": "965e79e3",
   "metadata": {},
   "outputs": [],
   "source": [
    "vectorizer = CountVectorizer()\n",
    "X_train = vectorizer.fit_transform(X_train_text.tolist())\n",
    "X_test = vectorizer.transform(X_test_text.tolist())\n",
    "\n",
    "# pos_count = 1 + X_train[Y_train == 2].sum(0)\n",
    "# neg_count = 1 + X_train[Y_train == 0].sum(0)\n",
    "# pos_weights = np.array(pos_count / pos_count.sum())[0]\n",
    "# neg_weights = np.array(neg_count / neg_count.sum())[0]\n",
    "\n",
    "# #np.log(np.array(pos_count / pos_count.sum() / (neg_count / neg_count.sum())))[0]\n",
    "# #weights = np.array(pos_count / pos_count.sum() + neg_count / neg_count.sum())[0]\n",
    "\n",
    "# sentiment_indices = np.union1d(np.argsort(pos_weights)[::-1][:500], np.argsort(neg_weights)[::-1][:500],)\n",
    "\n",
    "X_train = X_train.toarray()#[:, sentiment_indices]\n",
    "X_test = X_test.toarray()#[:, sentiment_indices]\n",
    "\n",
    "# X_train = (np.log(pos_weights / neg_weights) * X_train.toarray())#[:, sentiment_indices]\n",
    "# X_test = (np.log(pos_weights / neg_weights) * X_test.toarray())#[:, sentiment_indices]"
   ]
  },
  {
   "cell_type": "code",
   "execution_count": 126,
   "id": "91b75cf8",
   "metadata": {},
   "outputs": [
    {
     "name": "stdout",
     "output_type": "stream",
     "text": [
      "CPU times: total: 7.77 s\n",
      "Wall time: 12.4 s\n"
     ]
    },
    {
     "data": {
      "text/plain": [
       "(0.9979338842975206, 0.559228650137741)"
      ]
     },
     "execution_count": 126,
     "metadata": {},
     "output_type": "execute_result"
    }
   ],
   "source": [
    "%%time\n",
    "\n",
    "from sklearn.ensemble import RandomForestClassifier\n",
    "\n",
    "rf = RandomForestClassifier(n_estimators=200)\n",
    "rf.fit(X_train, Y_train)\n",
    "\n",
    "np.mean(rf.predict(X_train) == Y_train), np.mean(rf.predict(X_test) == Y_test)"
   ]
  },
  {
   "cell_type": "code",
   "execution_count": 123,
   "id": "3c77414e",
   "metadata": {},
   "outputs": [],
   "source": [
    "# count_vectorizer all features: 0.5564738292011019\n",
    "# tfidf_vectorizer all features: 0.5757575757575758"
   ]
  },
  {
   "cell_type": "code",
   "execution_count": 101,
   "id": "7b4b9b7f",
   "metadata": {},
   "outputs": [
    {
     "data": {
      "text/plain": [
       "0.5674931129476584"
      ]
     },
     "execution_count": 101,
     "metadata": {},
     "output_type": "execute_result"
    }
   ],
   "source": []
  },
  {
   "cell_type": "markdown",
   "id": "d3181198",
   "metadata": {},
   "source": [
    "### MODEL EVALUATION"
   ]
  },
  {
   "cell_type": "code",
   "execution_count": 129,
   "id": "47ea8902",
   "metadata": {},
   "outputs": [],
   "source": [
    "Y_pred = rf.predict(X_test)"
   ]
  },
  {
   "cell_type": "code",
   "execution_count": 130,
   "id": "80f91da6",
   "metadata": {},
   "outputs": [
    {
     "data": {
      "text/html": [
       "<div>\n",
       "<style scoped>\n",
       "    .dataframe tbody tr th:only-of-type {\n",
       "        vertical-align: middle;\n",
       "    }\n",
       "\n",
       "    .dataframe tbody tr th {\n",
       "        vertical-align: top;\n",
       "    }\n",
       "\n",
       "    .dataframe thead th {\n",
       "        text-align: right;\n",
       "    }\n",
       "</style>\n",
       "<table border=\"1\" class=\"dataframe\">\n",
       "  <thead>\n",
       "    <tr style=\"text-align: right;\">\n",
       "      <th>Predicted</th>\n",
       "      <th>0</th>\n",
       "      <th>1</th>\n",
       "      <th>2</th>\n",
       "    </tr>\n",
       "    <tr>\n",
       "      <th>Actual</th>\n",
       "      <th></th>\n",
       "      <th></th>\n",
       "      <th></th>\n",
       "    </tr>\n",
       "  </thead>\n",
       "  <tbody>\n",
       "    <tr>\n",
       "      <th>0</th>\n",
       "      <td>58</td>\n",
       "      <td>42</td>\n",
       "      <td>13</td>\n",
       "    </tr>\n",
       "    <tr>\n",
       "      <th>1</th>\n",
       "      <td>17</td>\n",
       "      <td>87</td>\n",
       "      <td>15</td>\n",
       "    </tr>\n",
       "    <tr>\n",
       "      <th>2</th>\n",
       "      <td>28</td>\n",
       "      <td>45</td>\n",
       "      <td>58</td>\n",
       "    </tr>\n",
       "  </tbody>\n",
       "</table>\n",
       "</div>"
      ],
      "text/plain": [
       "Predicted   0   1   2\n",
       "Actual               \n",
       "0          58  42  13\n",
       "1          17  87  15\n",
       "2          28  45  58"
      ]
     },
     "execution_count": 130,
     "metadata": {},
     "output_type": "execute_result"
    }
   ],
   "source": [
    "pd.crosstab(Y_test, Y_pred, rownames=['Actual'], colnames=['Predicted'])"
   ]
  },
  {
   "cell_type": "code",
   "execution_count": 133,
   "id": "83e84864",
   "metadata": {},
   "outputs": [
    {
     "data": {
      "image/png": "[encoded data removed]",
      "text/plain": [
       "<Figure size 1000x700 with 2 Axes>"
      ]
     },
     "metadata": {},
     "output_type": "display_data"
    }
   ],
   "source": [
    "# confusion matrix\n",
    "cm = confusion_matrix(Y_test, Y_pred)\n",
    "plt.figure(figsize=(10,7))\n",
    "sns.heatmap(cm, annot=True, fmt='d', cmap='coolwarm', xticklabels=['negatif','netral','positif'], yticklabels=['negatif','netral','positif'])\n",
    "plt.xlabel('Predicted')\n",
    "plt.ylabel('Actual')\n",
    "plt.show()"
   ]
  },
  {
   "cell_type": "code",
   "execution_count": 135,
   "id": "96740f5f",
   "metadata": {},
   "outputs": [
    {
     "name": "stdout",
     "output_type": "stream",
     "text": [
      "              precision    recall  f1-score   support\n",
      "\n",
      "           0       0.56      0.51      0.54       113\n",
      "           1       0.50      0.73      0.59       119\n",
      "           2       0.67      0.44      0.53       131\n",
      "\n",
      "    accuracy                           0.56       363\n",
      "   macro avg       0.58      0.56      0.56       363\n",
      "weighted avg       0.58      0.56      0.55       363\n",
      "\n",
      "Accuracy: 0.559228650137741\n"
     ]
    }
   ],
   "source": [
    "# accuracy, recall, precission, F1 score\n",
    "report = classification_report(Y_test, Y_pred)\n",
    "print(report)\n",
    "\n",
    "# calcalate and print accuracy\n",
    "accuracy = accuracy_score(Y_test, Y_pred)\n",
    "print(f'Accuracy: {accuracy}')"
   ]
  },
  {
   "cell_type": "code",
   "execution_count": null,
   "id": "ad6e6c79",
   "metadata": {},
   "outputs": [],
   "source": []
  }
 ],
 "metadata": {
  "kernelspec": {
   "display_name": "Python 3 (ipykernel)",
   "language": "python",
   "name": "python3"
  },
  "language_info": {
   "codemirror_mode": {
    "name": "ipython",
    "version": 3
   },
   "file_extension": ".py",
   "mimetype": "text/x-python",
   "name": "python",
   "nbconvert_exporter": "python",
   "pygments_lexer": "ipython3",
   "version": "3.7.16"
  }
 },
 "nbformat": 4,
 "nbformat_minor": 5
}
